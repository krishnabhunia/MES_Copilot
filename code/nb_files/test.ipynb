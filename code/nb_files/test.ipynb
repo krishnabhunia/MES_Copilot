{
 "cells": [
  {
   "cell_type": "code",
   "execution_count": 4,
   "metadata": {},
   "outputs": [
    {
     "name": "stdout",
     "output_type": "stream",
     "text": [
      "16091121\n",
      "20\n"
     ]
    }
   ],
   "source": [
    "def convert_to_numbers(input_str):\n",
    "    result = \"\"\n",
    "    for char in input_str.upper():\n",
    "        # Convert each character to its corresponding value where A=01, B=02, ..., Z=26\n",
    "        value = ord(char) - ord('A') + 1\n",
    "        result += f\"{value:02}\"  # Format with two digits (e.g., 01 for A, 02 for B, etc.)\n",
    "    return result\n",
    "\n",
    "# Example usage\n",
    "input_str = \"Piku\"\n",
    "output = convert_to_numbers(input_str)\n",
    "print(output)\n",
    "\n",
    "input_str = \"T\"\n",
    "output = convert_to_numbers(input_str)\n",
    "print(output)\n"
   ]
  }
 ],
 "metadata": {
  "kernelspec": {
   "display_name": "venv_kri_mes",
   "language": "python",
   "name": "python3"
  },
  "language_info": {
   "codemirror_mode": {
    "name": "ipython",
    "version": 3
   },
   "file_extension": ".py",
   "mimetype": "text/x-python",
   "name": "python",
   "nbconvert_exporter": "python",
   "pygments_lexer": "ipython3",
   "version": "3.10.12"
  }
 },
 "nbformat": 4,
 "nbformat_minor": 2
}
